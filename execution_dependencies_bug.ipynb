{
 "cells": [
  {
   "cell_type": "code",
   "execution_count": 4,
   "metadata": {
    "tags": [
     "#a"
    ]
   },
   "outputs": [],
   "source": [
    "# tag: a\n",
    "a=1"
   ]
  },
  {
   "cell_type": "code",
   "execution_count": 5,
   "metadata": {
    "tags": [
     "#b"
    ]
   },
   "outputs": [],
   "source": [
    "# tag: b\n",
    "b=1"
   ]
  },
  {
   "cell_type": "code",
   "execution_count": null,
   "metadata": {},
   "outputs": [],
   "source": [
    "# tag: c\n",
    "c=1"
   ]
  },
  {
   "cell_type": "code",
   "execution_count": null,
   "metadata": {
    "tags": [
     "#r",
     "=>a",
     "=>b"
    ]
   },
   "outputs": [],
   "source": [
    "# tag: r\n",
    "# deps: a,b,c\n",
    "r=a+b"
   ]
  },
  {
   "cell_type": "code",
   "execution_count": null,
   "metadata": {
    "tags": [
     "#i",
     "=>r"
    ]
   },
   "outputs": [],
   "source": [
    "# tag: i\n",
    "# deps: r\n",
    "i=r"
   ]
  },
  {
   "cell_type": "code",
   "execution_count": null,
   "metadata": {
    "tags": [
     "#h",
     "=>r"
    ]
   },
   "outputs": [],
   "source": [
    "# tag: h\n",
    "# deps: r\n",
    "h=r"
   ]
  },
  {
   "cell_type": "code",
   "execution_count": null,
   "metadata": {
    "tags": [
     "#e",
     "=>r"
    ]
   },
   "outputs": [],
   "source": [
    "# tag: e\n",
    "# deps: r\n",
    "e=r"
   ]
  },
  {
   "cell_type": "code",
   "execution_count": null,
   "metadata": {
    "tags": [
     "#start",
     "=>h",
     "=>i",
     "=>e"
    ]
   },
   "outputs": [],
   "source": [
    "# tag: start\n",
    "# deps: h,e,i\n",
    "start=h+e+i"
   ]
  }
 ],
 "metadata": {
  "celltoolbar": "Tags",
  "kernelspec": {
   "display_name": "Python 3",
   "language": "python",
   "name": "python3"
  },
  "language_info": {
   "codemirror_mode": {
    "name": "ipython",
    "version": 3
   },
   "file_extension": ".py",
   "mimetype": "text/x-python",
   "name": "python",
   "nbconvert_exporter": "python",
   "pygments_lexer": "ipython3",
   "version": "3.6.8"
  },
  "toc": {
   "base_numbering": 1,
   "nav_menu": {},
   "number_sections": true,
   "sideBar": true,
   "skip_h1_title": false,
   "title_cell": "Table of Contents",
   "title_sidebar": "Contents",
   "toc_cell": false,
   "toc_position": {},
   "toc_section_display": true,
   "toc_window_display": false
  }
 },
 "nbformat": 4,
 "nbformat_minor": 2
}
